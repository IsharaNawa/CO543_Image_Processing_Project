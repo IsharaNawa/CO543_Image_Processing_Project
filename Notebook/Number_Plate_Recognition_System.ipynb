{
  "cells": [
    {
      "cell_type": "markdown",
      "metadata": {
        "id": "UvIeBW6-TscO"
      },
      "source": [
        "#Number Plate Recognition System\n",
        "#Group F\n",
        "#E/17/212\n",
        "#E/17/219\n",
        "#E/17/284"
      ]
    },
    {
      "cell_type": "markdown",
      "source": [
        "##Preconfigurations"
      ],
      "metadata": {
        "id": "8HSUb0IOxH9A"
      }
    },
    {
      "cell_type": "code",
      "execution_count": null,
      "metadata": {
        "id": "3Fs7IfkSl4zG"
      },
      "outputs": [],
      "source": [
        "#importing libraries\n",
        "import numpy as np\n",
        "import cv2 as cv\n",
        "import matplotlib.pyplot as plt\n",
        "import os\n",
        "import matplotlib.image as pltimg\n",
        "\n",
        "# #imporot the patch for the google colab\n",
        "from google.colab.patches import cv2_imshow"
      ]
    },
    {
      "cell_type": "code",
      "execution_count": null,
      "metadata": {
        "colab": {
          "base_uri": "https://localhost:8080/"
        },
        "id": "p10kPE9kV3Fc",
        "outputId": "070d43df-59c1-406a-832a-f1b28949934c"
      },
      "outputs": [
        {
          "output_type": "stream",
          "name": "stdout",
          "text": [
            "Drive already mounted at /content/drive; to attempt to forcibly remount, call drive.mount(\"/content/drive\", force_remount=True).\n"
          ]
        }
      ],
      "source": [
        "from google.colab import drive\n",
        "drive.mount('/content/drive')"
      ]
    },
    {
      "cell_type": "code",
      "execution_count": null,
      "metadata": {
        "id": "8_gm7KaRT7re"
      },
      "outputs": [],
      "source": [
        "#specifying the folder in the google drive for test cases\n",
        "folder_name = \"/content/drive/MyDrive/CO543-Image Processing/Project/Test Cases/\""
      ]
    },
    {
      "cell_type": "code",
      "execution_count": null,
      "metadata": {
        "colab": {
          "base_uri": "https://localhost:8080/"
        },
        "id": "EEMWoX-EVY6F",
        "outputId": "0cfed351-b5ef-462d-f111-e5329c473f28"
      },
      "outputs": [
        {
          "output_type": "stream",
          "name": "stdout",
          "text": [
            "A1.PNG\tB1.PNG\tC1.PNG\tD1.PNG\tE1.PNG\tF1.PNG\tG1.PNG\tH1.PNG\n",
            "A2.PNG\tB2.PNG\tC2.PNG\tD2.PNG\tE2.PNG\tF2.PNG\tG2.PNG\tH2.PNG\n",
            "A3.PNG\tB3.PNG\tC3.PNG\tD3.PNG\tE3.PNG\tF3.PNG\tG3.PNG\tH3.PNG\n"
          ]
        }
      ],
      "source": [
        "#what is inside the test cases folder\n",
        "!ls \"/content/drive/MyDrive/CO543-Image Processing/Project/Test Cases/\""
      ]
    },
    {
      "cell_type": "code",
      "execution_count": null,
      "metadata": {
        "colab": {
          "base_uri": "https://localhost:8080/"
        },
        "id": "Hpfs-8vhWzcO",
        "outputId": "1f322013-904c-4836-dfb7-5cea065b489b"
      },
      "outputs": [
        {
          "output_type": "stream",
          "name": "stdout",
          "text": [
            "['F1.PNG', 'F2.PNG', 'F3.PNG']\n",
            "['A1.PNG', 'A2.PNG', 'A3.PNG', 'B1.PNG', 'B2.PNG', 'B3.PNG', 'C1.PNG', 'C2.PNG', 'C3.PNG', 'D1.PNG', 'D2.PNG', 'D3.PNG', 'E1.PNG', 'E2.PNG', 'E3.PNG', 'F1.PNG', 'F2.PNG', 'F3.PNG', 'G1.PNG', 'G2.PNG', 'G3.PNG', 'H1.PNG', 'H2.PNG', 'H3.PNG']\n"
          ]
        }
      ],
      "source": [
        "#what is inside the test cases folder\n",
        "test_cases = os.listdir(folder_name)\n",
        "all_images = []\n",
        "F_images = []\n",
        "for test_case in test_cases:\n",
        "  number , _ = test_case.split(\".\")\n",
        "  if number[0] == \"F\":\n",
        "    F_images.append(test_case)\n",
        "\n",
        "  all_images.append(test_case)\n",
        "\n",
        "print(F_images)\n",
        "print(all_images)"
      ]
    },
    {
      "cell_type": "code",
      "execution_count": null,
      "metadata": {
        "colab": {
          "base_uri": "https://localhost:8080/"
        },
        "id": "6PkLcYLVXXvc",
        "outputId": "88139f3f-6399-4b7a-f777-850c5a4245bc"
      },
      "outputs": [
        {
          "output_type": "execute_result",
          "data": {
            "text/plain": [
              "24"
            ]
          },
          "metadata": {},
          "execution_count": 73
        }
      ],
      "source": [
        "#number of test cases\n",
        "len(all_images)"
      ]
    },
    {
      "cell_type": "markdown",
      "source": [
        "##Image Observation and Aqusition"
      ],
      "metadata": {
        "id": "FWLfOb18xMK4"
      }
    },
    {
      "cell_type": "code",
      "execution_count": null,
      "metadata": {
        "colab": {
          "base_uri": "https://localhost:8080/",
          "height": 855
        },
        "id": "CitJQ_9FXkaT",
        "outputId": "3551f5ab-b4ed-4c30-e818-3248a2b29fb2"
      },
      "outputs": [
        {
          "output_type": "display_data",
          "data": {
            "text/plain": [
              "<PIL.Image.Image image mode=RGB size=56x17 at 0x7EFD3C176290>"
            ],
            "image/png": "[encoded data removed]"
          },
          "metadata": {}
        },
        {
          "output_type": "display_data",
          "data": {
            "text/plain": [
              "<PIL.Image.Image image mode=RGB size=64x33 at 0x7EFD3C176810>"
            ],
            "image/png": "[encoded data removed]"
          },
          "metadata": {}
        },
        {
          "output_type": "display_data",
          "data": {
            "text/plain": [
              "<PIL.Image.Image image mode=RGB size=83x64 at 0x7EFD3C176F50>"
            ],
            "image/png": "[encoded data removed]"
          },
          "metadata": {}
        },
        {
          "output_type": "display_data",
          "data": {
            "text/plain": [
              "<PIL.Image.Image image mode=RGB size=80x54 at 0x7EFD3C176F50>"
            ],
            "image/png": "[encoded data removed]"
          },
          "metadata": {}
        },
        {
          "output_type": "display_data",
          "data": {
            "text/plain": [
              "<PIL.Image.Image image mode=RGB size=33x21 at 0x7EFD3C176D50>"
            ],
            "image/png": "[encoded data removed]"
          },
          "metadata": {}
        },
        {
          "output_type": "display_data",
          "data": {
            "text/plain": [
              "<PIL.Image.Image image mode=RGB size=131x58 at 0x7EFD3C176D50>"
            ],
            "image/png": "[encoded data removed]"
          },
          "metadata": {}
        },
        {
          "output_type": "display_data",
          "data": {
            "text/plain": [
              "<PIL.Image.Image image mode=RGB size=75x67 at 0x7EFD3C1768D0>"
            ],
            "image/png": "[encoded data removed]"
          },
          "metadata": {}
        },
        {
          "output_type": "display_data",
          "data": {
            "text/plain": [
              "<PIL.Image.Image image mode=RGB size=117x69 at 0x7EFD3C176D50>"
            ],
            "image/png": "[encoded data removed]"
          },
          "metadata": {}
        },
        {
          "output_type": "display_data",
          "data": {
            "text/plain": [
              "<PIL.Image.Image image mode=RGB size=41x26 at 0x7EFD3C176290>"
            ],
            "image/png": "[encoded data removed]"
          },
          "metadata": {}
        },
        {
          "output_type": "display_data",
          "data": {
            "text/plain": [
              "<PIL.Image.Image image mode=RGB size=84x23 at 0x7EFD3C176190>"
            ],
            "image/png": "[encoded data removed]"
          },
          "metadata": {}
        },
        {
          "output_type": "display_data",
          "data": {
            "text/plain": [
              "<PIL.Image.Image image mode=RGB size=58x20 at 0x7EFD3C176F50>"
            ],
            "image/png": "[encoded data removed]"
          },
          "metadata": {}
        },
        {
          "output_type": "display_data",
          "data": {
            "text/plain": [
              "<PIL.Image.Image image mode=RGB size=69x29 at 0x7EFD3C176D50>"
            ],
            "image/png": "[encoded data removed]"
          },
          "metadata": {}
        },
        {
          "output_type": "display_data",
          "data": {
            "text/plain": [
              "<PIL.Image.Image image mode=RGB size=46x33 at 0x7EFD3C176B50>"
            ],
            "image/png": "[encoded data removed]"
          },
          "metadata": {}
        },
        {
          "output_type": "display_data",
          "data": {
            "text/plain": [
              "<PIL.Image.Image image mode=RGB size=52x33 at 0x7EFD3C176190>"
            ],
            "image/png": "[encoded data removed]"
          },
          "metadata": {}
        },
        {
          "output_type": "display_data",
          "data": {
            "text/plain": [
              "<PIL.Image.Image image mode=RGB size=62x19 at 0x7EFD3C176810>"
            ],
            "image/png": "[encoded data removed]"
          },
          "metadata": {}
        },
        {
          "output_type": "display_data",
          "data": {
            "text/plain": [
              "<PIL.Image.Image image mode=RGB size=33x23 at 0x7EFD3C176D50>"
            ],
            "image/png": "[encoded data removed]"
          },
          "metadata": {}
        },
        {
          "output_type": "display_data",
          "data": {
            "text/plain": [
              "<PIL.Image.Image image mode=RGB size=63x45 at 0x7EFD3C176F50>"
            ],
            "image/png": "[encoded data removed]"
          },
          "metadata": {}
        },
        {
          "output_type": "display_data",
          "data": {
            "text/plain": [
              "<PIL.Image.Image image mode=RGB size=37x31 at 0x7EFD3C176B50>"
            ],
            "image/png": "[encoded data removed]"
          },
          "metadata": {}
        },
        {
          "output_type": "display_data",
          "data": {
            "text/plain": [
              "<PIL.Image.Image image mode=RGB size=34x27 at 0x7EFD3C176D50>"
            ],
            "image/png": "[encoded data removed]"
          },
          "metadata": {}
        },
        {
          "output_type": "display_data",
          "data": {
            "text/plain": [
              "<PIL.Image.Image image mode=RGB size=37x19 at 0x7EFD3C176D10>"
            ],
            "image/png": "[encoded data removed]"
          },
          "metadata": {}
        },
        {
          "output_type": "display_data",
          "data": {
            "text/plain": [
              "<PIL.Image.Image image mode=RGB size=50x22 at 0x7EFD3C1768D0>"
            ],
            "image/png": "[encoded data removed]"
          },
          "metadata": {}
        },
        {
          "output_type": "display_data",
          "data": {
            "text/plain": [
              "<PIL.Image.Image image mode=RGB size=50x30 at 0x7EFD3C176190>"
            ],
            "image/png": "[encoded data removed]"
          },
          "metadata": {}
        },
        {
          "output_type": "display_data",
          "data": {
            "text/plain": [
              "<PIL.Image.Image image mode=RGB size=48x16 at 0x7EFD3C176F50>"
            ],
            "image/png": "[encoded data removed]"
          },
          "metadata": {}
        },
        {
          "output_type": "display_data",
          "data": {
            "text/plain": [
              "<PIL.Image.Image image mode=RGB size=81x58 at 0x7EFD3C176F10>"
            ],
            "image/png": "[encoded data removed]"
          },
          "metadata": {}
        }
      ],
      "source": [
        "#plot test images\n",
        "for test_case in range(len(all_images)):\n",
        "  img = cv.imread(folder_name+\"/\"+all_images[test_case])\n",
        "  cv2_imshow(img)"
      ]
    },
    {
      "cell_type": "markdown",
      "source": [
        "There are some images which are relavent to our group. Below those are shown."
      ],
      "metadata": {
        "id": "GuAaDMnExSSQ"
      }
    },
    {
      "cell_type": "code",
      "execution_count": null,
      "metadata": {
        "colab": {
          "base_uri": "https://localhost:8080/",
          "height": 116
        },
        "id": "oIQUIqg-FDG8",
        "outputId": "f7cc69d8-b277-44b1-b9bd-be53d8d2a89a"
      },
      "outputs": [
        {
          "output_type": "display_data",
          "data": {
            "text/plain": [
              "<PIL.Image.Image image mode=RGB size=33x23 at 0x7EFD3C1328D0>"
            ],
            "image/png": "[encoded data removed]"
          },
          "metadata": {}
        },
        {
          "output_type": "display_data",
          "data": {
            "text/plain": [
              "<PIL.Image.Image image mode=RGB size=63x45 at 0x7EFD3CA76AD0>"
            ],
            "image/png": "[encoded data removed]"
          },
          "metadata": {}
        },
        {
          "output_type": "display_data",
          "data": {
            "text/plain": [
              "<PIL.Image.Image image mode=RGB size=37x31 at 0x7EFD3C14FC10>"
            ],
            "image/png": "[encoded data removed]"
          },
          "metadata": {}
        }
      ],
      "source": [
        "#plot all the F images\n",
        "for test_case in range(len(F_images)):\n",
        "  img = cv.imread(folder_name+\"/\"+F_images[test_case])\n",
        "  cv2_imshow(img)"
      ]
    },
    {
      "cell_type": "markdown",
      "source": [
        "##1.Convert the images into grey scaled images"
      ],
      "metadata": {
        "id": "HPODUBPXxdZg"
      }
    },
    {
      "cell_type": "code",
      "source": [
        "#get all the images in F images\n",
        "fimg_0 = cv.imread(folder_name+\"/\"+F_images[0])\n",
        "fimg_1 = cv.imread(folder_name+\"/\"+F_images[1])\n",
        "fimg_2 = cv.imread(folder_name+\"/\"+F_images[2])"
      ],
      "metadata": {
        "id": "R9WvK7A6vzEJ"
      },
      "execution_count": null,
      "outputs": []
    },
    {
      "cell_type": "code",
      "source": [
        "#converting the images to grey scaled images\n",
        "img = cv.cvtColor(fimg_0, cv.COLOR_BGR2GRAY)\n",
        "img1 = cv.cvtColor(fimg_1, cv.COLOR_BGR2GRAY)\n",
        "img2 = cv.cvtColor(fimg_2, cv.COLOR_BGR2GRAY)"
      ],
      "metadata": {
        "id": "S6SDbfj_wGlY"
      },
      "execution_count": null,
      "outputs": []
    },
    {
      "cell_type": "code",
      "source": [
        "#showing the images\n",
        "cv2_imshow(img)\n",
        "cv2_imshow(img1)\n",
        "cv2_imshow(img2)"
      ],
      "metadata": {
        "colab": {
          "base_uri": "https://localhost:8080/",
          "height": 116
        },
        "id": "H7IPUhWOwUrI",
        "outputId": "8b879716-f022-4827-a6a1-a69180183809"
      },
      "execution_count": null,
      "outputs": [
        {
          "output_type": "display_data",
          "data": {
            "text/plain": [
              "<PIL.Image.Image image mode=L size=33x23 at 0x7EFD3BF01210>"
            ],
            "image/png": "[encoded data removed]"
          },
          "metadata": {}
        },
        {
          "output_type": "display_data",
          "data": {
            "text/plain": [
              "<PIL.Image.Image image mode=L size=63x45 at 0x7EFD3BF01690>"
            ],
            "image/png": "[encoded data removed]"
          },
          "metadata": {}
        },
        {
          "output_type": "display_data",
          "data": {
            "text/plain": [
              "<PIL.Image.Image image mode=L size=37x31 at 0x7EFD3BF01710>"
            ],
            "image/png": "[encoded data removed]"
          },
          "metadata": {}
        }
      ]
    },
    {
      "cell_type": "markdown",
      "source": [
        "There are some improvments in the first and the third images but the second image definitely could use more improvements."
      ],
      "metadata": {
        "id": "3hkFhpMyxi73"
      }
    },
    {
      "cell_type": "markdown",
      "source": [
        "##2.Apply the histogram equalization to the images"
      ],
      "metadata": {
        "id": "3UKvBp8SxrTf"
      }
    },
    {
      "cell_type": "code",
      "source": [
        "#perfroming histogram equalization to the image\n",
        "equImg = cv.equalizeHist(img)\n",
        "equImg1 = cv.equalizeHist(img1)\n",
        "equImg2 = cv.equalizeHist(img2)"
      ],
      "metadata": {
        "id": "YGnC1hcUxwkn"
      },
      "execution_count": null,
      "outputs": []
    },
    {
      "cell_type": "code",
      "source": [
        "#showing the images\n",
        "cv2_imshow(equImg)\n",
        "cv2_imshow(equImg1)\n",
        "cv2_imshow(equImg2)"
      ],
      "metadata": {
        "colab": {
          "base_uri": "https://localhost:8080/",
          "height": 116
        },
        "id": "A0ObuULNyKl_",
        "outputId": "3b80ea3e-bcab-4ea9-b4a4-4c635d9ca54c"
      },
      "execution_count": null,
      "outputs": [
        {
          "output_type": "display_data",
          "data": {
            "text/plain": [
              "<PIL.Image.Image image mode=L size=33x23 at 0x7EFD3BED1E50>"
            ],
            "image/png": "[encoded data removed]"
          },
          "metadata": {}
        },
        {
          "output_type": "display_data",
          "data": {
            "text/plain": [
              "<PIL.Image.Image image mode=L size=63x45 at 0x7EFD3BED1190>"
            ],
            "image/png": "[encoded data removed]"
          },
          "metadata": {}
        },
        {
          "output_type": "display_data",
          "data": {
            "text/plain": [
              "<PIL.Image.Image image mode=L size=37x31 at 0x7EFD3BED1290>"
            ],
            "image/png": "[encoded data removed]"
          },
          "metadata": {}
        }
      ]
    },
    {
      "cell_type": "markdown",
      "source": [
        "##3.Apply the Transformations to the images"
      ],
      "metadata": {
        "id": "Gct8pCU72c_N"
      }
    },
    {
      "cell_type": "markdown",
      "source": [
        "###Log transformation"
      ],
      "metadata": {
        "id": "MXQgGgmO2i19"
      }
    },
    {
      "cell_type": "code",
      "source": [
        "# Apply log transformation method\n",
        "def log(img):\n",
        "\n",
        "  # Apply log transformation method\n",
        "  c = 255 / np.log(1 + np.max(img))\n",
        "  log_image = c * (np.log(img + 1))\n",
        "    \n",
        "  # Specify the data type so that\n",
        "  # float value will be converted to int\n",
        "  log_image = np.array(log_image, dtype = np.uint8)\n",
        "\n",
        "  return log_image"
      ],
      "metadata": {
        "id": "Bby9O0XI2nvt"
      },
      "execution_count": null,
      "outputs": []
    },
    {
      "cell_type": "code",
      "source": [
        "logImg = log(equImg)\n",
        "logImg1 = log(equImg1)\n",
        "logImg2 = log(equImg2)"
      ],
      "metadata": {
        "colab": {
          "base_uri": "https://localhost:8080/"
        },
        "id": "dvVXaaA927XE",
        "outputId": "bdf1fafb-eec2-4f03-c9e9-90505da02cb5"
      },
      "execution_count": null,
      "outputs": [
        {
          "output_type": "stream",
          "name": "stderr",
          "text": [
            "/usr/local/lib/python3.7/dist-packages/ipykernel_launcher.py:6: RuntimeWarning: divide by zero encountered in log\n",
            "  \n"
          ]
        }
      ]
    },
    {
      "cell_type": "code",
      "source": [
        "#showing the images\n",
        "cv2_imshow(logImg)\n",
        "cv2_imshow(logImg1)\n",
        "cv2_imshow(logImg2)"
      ],
      "metadata": {
        "colab": {
          "base_uri": "https://localhost:8080/",
          "height": 116
        },
        "id": "X7g4v_8I3DQ8",
        "outputId": "b0a15300-50db-416b-f2cf-74a6ee4a5183"
      },
      "execution_count": null,
      "outputs": [
        {
          "output_type": "display_data",
          "data": {
            "text/plain": [
              "<PIL.Image.Image image mode=L size=33x23 at 0x7EFD3BF47CD0>"
            ],
            "image/png": "[encoded data removed]"
          },
          "metadata": {}
        },
        {
          "output_type": "display_data",
          "data": {
            "text/plain": [
              "<PIL.Image.Image image mode=L size=63x45 at 0x7EFD3BED1B90>"
            ],
            "image/png": "[encoded data removed]"
          },
          "metadata": {}
        },
        {
          "output_type": "display_data",
          "data": {
            "text/plain": [
              "<PIL.Image.Image image mode=L size=37x31 at 0x7EFD3BED1190>"
            ],
            "image/png": "[encoded data removed]"
          },
          "metadata": {}
        }
      ]
    },
    {
      "cell_type": "markdown",
      "source": [
        "###Power transformation"
      ],
      "metadata": {
        "id": "gi_lugOt2le0"
      }
    },
    {
      "cell_type": "code",
      "source": [
        "# Trying 4 gamma values.\n",
        "for gamma in [0.2, 0.5 ,4,6]:\n",
        "      \n",
        "    # Apply gamma correction.\n",
        "    gamma_corrected = np.array(255*(equImg / 255) ** gamma, dtype = 'uint8')\n",
        "  \n",
        "    # View edited images.\n",
        "    cv2_imshow(gamma_corrected)"
      ],
      "metadata": {
        "colab": {
          "base_uri": "https://localhost:8080/",
          "height": 109
        },
        "id": "3G5UEJSI3dKE",
        "outputId": "60d195bb-bf94-426b-a4c7-7334d8897e5c"
      },
      "execution_count": null,
      "outputs": [
        {
          "output_type": "display_data",
          "data": {
            "text/plain": [
              "<PIL.Image.Image image mode=L size=33x23 at 0x7EFD3BC90C10>"
            ],
            "image/png": "[encoded data removed]"
          },
          "metadata": {}
        },
        {
          "output_type": "display_data",
          "data": {
            "text/plain": [
              "<PIL.Image.Image image mode=L size=33x23 at 0x7EFD3BC90F90>"
            ],
            "image/png": "[encoded data removed]"
          },
          "metadata": {}
        },
        {
          "output_type": "display_data",
          "data": {
            "text/plain": [
              "<PIL.Image.Image image mode=L size=33x23 at 0x7EFD3BC90F90>"
            ],
            "image/png": "[encoded data removed]"
          },
          "metadata": {}
        },
        {
          "output_type": "display_data",
          "data": {
            "text/plain": [
              "<PIL.Image.Image image mode=L size=33x23 at 0x7EFD3BC90F90>"
            ],
            "image/png": "[encoded data removed]"
          },
          "metadata": {}
        }
      ]
    },
    {
      "cell_type": "markdown",
      "source": [
        "We need to figure out the best method transformation to apply first. Lets do some experiments."
      ],
      "metadata": {
        "id": "EU8HNhC16dsC"
      }
    },
    {
      "cell_type": "markdown",
      "source": [
        "### Log Transfromation -> Power Transformation"
      ],
      "metadata": {
        "id": "atDYDYZ76mZZ"
      }
    },
    {
      "cell_type": "code",
      "source": [
        "# Trying 4 gamma values.\n",
        "for gamma in [0.2, 0.5 ,4,6]:\n",
        "\n",
        "    print(\"gamma =\",gamma)  \n",
        "\n",
        "    #lets get the log transformation output\n",
        "    logImg = log(equImg2)\n",
        "    cv2_imshow(logImg)\n",
        "\n",
        "    # Apply gamma correction.\n",
        "    gamma_corrected = np.array(255*(logImg / 255) ** gamma, dtype = 'uint8')\n",
        "  \n",
        "    # View edited images.\n",
        "    cv2_imshow(gamma_corrected)"
      ],
      "metadata": {
        "colab": {
          "base_uri": "https://localhost:8080/",
          "height": 375
        },
        "id": "NpYmtK8p6w_h",
        "outputId": "a6548311-0d2b-4138-b4f6-58025f7a2578"
      },
      "execution_count": null,
      "outputs": [
        {
          "output_type": "stream",
          "name": "stdout",
          "text": [
            "gamma = 0.2\n"
          ]
        },
        {
          "output_type": "stream",
          "name": "stderr",
          "text": [
            "/usr/local/lib/python3.7/dist-packages/ipykernel_launcher.py:6: RuntimeWarning: divide by zero encountered in log\n",
            "  \n"
          ]
        },
        {
          "output_type": "display_data",
          "data": {
            "text/plain": [
              "<PIL.Image.Image image mode=L size=37x31 at 0x7EFD3BFB4350>"
            ],
            "image/png": "[encoded data removed]"
          },
          "metadata": {}
        },
        {
          "output_type": "display_data",
          "data": {
            "text/plain": [
              "<PIL.Image.Image image mode=L size=37x31 at 0x7EFD3BEF97D0>"
            ],
            "image/png": "[encoded data removed]"
          },
          "metadata": {}
        },
        {
          "output_type": "stream",
          "name": "stdout",
          "text": [
            "gamma = 0.5\n"
          ]
        },
        {
          "output_type": "display_data",
          "data": {
            "text/plain": [
              "<PIL.Image.Image image mode=L size=37x31 at 0x7EFD45A74710>"
            ],
            "image/png": "[encoded data removed]"
          },
          "metadata": {}
        },
        {
          "output_type": "display_data",
          "data": {
            "text/plain": [
              "<PIL.Image.Image image mode=L size=37x31 at 0x7EFD3BEE01D0>"
            ],
            "image/png": "[encoded data removed]"
          },
          "metadata": {}
        },
        {
          "output_type": "stream",
          "name": "stdout",
          "text": [
            "gamma = 4\n"
          ]
        },
        {
          "output_type": "display_data",
          "data": {
            "text/plain": [
              "<PIL.Image.Image image mode=L size=37x31 at 0x7EFD3BEF9650>"
            ],
            "image/png": "[encoded data removed]"
          },
          "metadata": {}
        },
        {
          "output_type": "display_data",
          "data": {
            "text/plain": [
              "<PIL.Image.Image image mode=L size=37x31 at 0x7EFD3BEE0B50>"
            ],
            "image/png": "[encoded data removed]"
          },
          "metadata": {}
        },
        {
          "output_type": "stream",
          "name": "stdout",
          "text": [
            "gamma = 6\n"
          ]
        },
        {
          "output_type": "display_data",
          "data": {
            "text/plain": [
              "<PIL.Image.Image image mode=L size=37x31 at 0x7EFD3BEF9050>"
            ],
            "image/png": "[encoded data removed]"
          },
          "metadata": {}
        },
        {
          "output_type": "display_data",
          "data": {
            "text/plain": [
              "<PIL.Image.Image image mode=L size=37x31 at 0x7EFD3BEF9D50>"
            ],
            "image/png": "[encoded data removed]"
          },
          "metadata": {}
        }
      ]
    },
    {
      "cell_type": "markdown",
      "source": [
        "### Power Transfromation -> Log Transformation"
      ],
      "metadata": {
        "id": "xlrvVzYR7qbJ"
      }
    },
    {
      "cell_type": "code",
      "source": [
        "#lets apply power transformation to it\n",
        "# Trying 4 gamma values.\n",
        "for gamma in [0.2, 0.5 ,4,6]:\n",
        "\n",
        "    print(\"gamma =\",gamma)  \n",
        "    # Apply gamma correction.\n",
        "    gamma_corrected = np.array(255*(equImg2 / 255) ** gamma, dtype = 'uint8')\n",
        "  \n",
        "    # View edited images.\n",
        "    cv2_imshow(gamma_corrected)\n",
        "\n",
        "    #view log image\n",
        "    logImg = log(gamma_corrected)\n",
        "    cv2_imshow(logImg)"
      ],
      "metadata": {
        "colab": {
          "base_uri": "https://localhost:8080/",
          "height": 375
        },
        "id": "7SFCqGGS7thZ",
        "outputId": "67ab38e5-ebd3-47cf-9b30-be8af0f88502"
      },
      "execution_count": null,
      "outputs": [
        {
          "output_type": "stream",
          "name": "stdout",
          "text": [
            "gamma = 0.2\n"
          ]
        },
        {
          "output_type": "display_data",
          "data": {
            "text/plain": [
              "<PIL.Image.Image image mode=L size=37x31 at 0x7EFD3BC90E50>"
            ],
            "image/png": "[encoded data removed]"
          },
          "metadata": {}
        },
        {
          "output_type": "stream",
          "name": "stderr",
          "text": [
            "/usr/local/lib/python3.7/dist-packages/ipykernel_launcher.py:6: RuntimeWarning: divide by zero encountered in log\n",
            "  \n"
          ]
        },
        {
          "output_type": "display_data",
          "data": {
            "text/plain": [
              "<PIL.Image.Image image mode=L size=37x31 at 0x7EFD3BEE0ED0>"
            ],
            "image/png": "[encoded data removed]"
          },
          "metadata": {}
        },
        {
          "output_type": "stream",
          "name": "stdout",
          "text": [
            "gamma = 0.5\n"
          ]
        },
        {
          "output_type": "display_data",
          "data": {
            "text/plain": [
              "<PIL.Image.Image image mode=L size=37x31 at 0x7EFD3BC90F90>"
            ],
            "image/png": "[encoded data removed]"
          },
          "metadata": {}
        },
        {
          "output_type": "display_data",
          "data": {
            "text/plain": [
              "<PIL.Image.Image image mode=L size=37x31 at 0x7EFD3BF20E50>"
            ],
            "image/png": "[encoded data removed]"
          },
          "metadata": {}
        },
        {
          "output_type": "stream",
          "name": "stdout",
          "text": [
            "gamma = 4\n"
          ]
        },
        {
          "output_type": "display_data",
          "data": {
            "text/plain": [
              "<PIL.Image.Image image mode=L size=37x31 at 0x7EFD3BC90910>"
            ],
            "image/png": "[encoded data removed]"
          },
          "metadata": {}
        },
        {
          "output_type": "display_data",
          "data": {
            "text/plain": [
              "<PIL.Image.Image image mode=L size=37x31 at 0x7EFD3BC907D0>"
            ],
            "image/png": "[encoded data removed]"
          },
          "metadata": {}
        },
        {
          "output_type": "stream",
          "name": "stdout",
          "text": [
            "gamma = 6\n"
          ]
        },
        {
          "output_type": "display_data",
          "data": {
            "text/plain": [
              "<PIL.Image.Image image mode=L size=37x31 at 0x7EFD3BC90090>"
            ],
            "image/png": "[encoded data removed]"
          },
          "metadata": {}
        },
        {
          "output_type": "display_data",
          "data": {
            "text/plain": [
              "<PIL.Image.Image image mode=L size=37x31 at 0x7EFD3BC90990>"
            ],
            "image/png": "[encoded data removed]"
          },
          "metadata": {}
        }
      ]
    },
    {
      "cell_type": "markdown",
      "source": [
        "It seems like applying the power transformation with the gamma value of 4 is produce the most enhanced image. We can compare the new results with the previous step output now."
      ],
      "metadata": {
        "id": "E1kfYRUc9F8w"
      }
    },
    {
      "cell_type": "code",
      "source": [
        "def power_log(img,gamma=4):\n",
        "  gamma_corrected = np.array(255*(img / 255) ** gamma, dtype = 'uint8')\n",
        "  logImg = log(gamma_corrected)\n",
        "  return logImg"
      ],
      "metadata": {
        "id": "MhxVHfCf9U94"
      },
      "execution_count": null,
      "outputs": []
    },
    {
      "cell_type": "code",
      "source": [
        "cv2_imshow(equImg)\n",
        "logPowImg = power_log(equImg,5) \n",
        "cv2_imshow(logPowImg)\n",
        "\n",
        "cv2_imshow(equImg1)\n",
        "logPowImg1 = power_log(equImg1,5) \n",
        "cv2_imshow(logPowImg)\n",
        "\n",
        "cv2_imshow(equImg2)\n",
        "logPowImg2 = power_log(equImg2,5) \n",
        "cv2_imshow(logPowImg)"
      ],
      "metadata": {
        "colab": {
          "base_uri": "https://localhost:8080/",
          "height": 222
        },
        "id": "PWS3pPrV9jUn",
        "outputId": "382fc69f-13cf-45b4-84bb-966c6f259485"
      },
      "execution_count": null,
      "outputs": [
        {
          "output_type": "display_data",
          "data": {
            "text/plain": [
              "<PIL.Image.Image image mode=L size=33x23 at 0x7EFD3BC90D50>"
            ],
            "image/png": "[encoded data removed]"
          },
          "metadata": {}
        },
        {
          "output_type": "stream",
          "name": "stderr",
          "text": [
            "/usr/local/lib/python3.7/dist-packages/ipykernel_launcher.py:6: RuntimeWarning: divide by zero encountered in log\n",
            "  \n"
          ]
        },
        {
          "output_type": "display_data",
          "data": {
            "text/plain": [
              "<PIL.Image.Image image mode=L size=33x23 at 0x7EFD3BC90DD0>"
            ],
            "image/png": "[encoded data removed]"
          },
          "metadata": {}
        },
        {
          "output_type": "display_data",
          "data": {
            "text/plain": [
              "<PIL.Image.Image image mode=L size=63x45 at 0x7EFD3BC90CD0>"
            ],
            "image/png": "[encoded data removed]"
          },
          "metadata": {}
        },
        {
          "output_type": "display_data",
          "data": {
            "text/plain": [
              "<PIL.Image.Image image mode=L size=33x23 at 0x7EFD3BC90CD0>"
            ],
            "image/png": "[encoded data removed]"
          },
          "metadata": {}
        },
        {
          "output_type": "display_data",
          "data": {
            "text/plain": [
              "<PIL.Image.Image image mode=L size=37x31 at 0x7EFD3BC90CD0>"
            ],
            "image/png": "[encoded data removed]"
          },
          "metadata": {}
        },
        {
          "output_type": "display_data",
          "data": {
            "text/plain": [
              "<PIL.Image.Image image mode=L size=33x23 at 0x7EFD3BC90CD0>"
            ],
            "image/png": "[encoded data removed]"
          },
          "metadata": {}
        }
      ]
    },
    {
      "cell_type": "markdown",
      "source": [
        "We can see that readability is improved."
      ],
      "metadata": {
        "id": "jQ7PduRZ-KcA"
      }
    },
    {
      "cell_type": "markdown",
      "source": [
        "##4.Apply filters to improve the image quality further more"
      ],
      "metadata": {
        "id": "CcpQnXcOIkq4"
      }
    },
    {
      "cell_type": "markdown",
      "source": [
        "We need to enhance the image to detect edges more efficiently so we will use Sobel filter for that. Lets apply Laplace filter and Sobel filter for each image and see the results."
      ],
      "metadata": {
        "id": "yHVBrMdKItJ4"
      }
    },
    {
      "cell_type": "markdown",
      "source": [
        "###Laplace Filter"
      ],
      "metadata": {
        "id": "OuFTkD1MLQtX"
      }
    },
    {
      "cell_type": "code",
      "source": [
        "laplacian = cv.Laplacian(logPowImg,cv.CV_64F)\n",
        "cv2_imshow(laplacian)\n",
        "laplacian1 = cv.Laplacian(logPowImg1,cv.CV_64F)\n",
        "cv2_imshow(laplacian1)\n",
        "laplacian2 = cv.Laplacian(logPowImg2,cv.CV_64F)\n",
        "cv2_imshow(laplacian2)"
      ],
      "metadata": {
        "colab": {
          "base_uri": "https://localhost:8080/",
          "height": 116
        },
        "id": "ydbsdoBgK2do",
        "outputId": "359c9ba2-de52-41a5-d996-a5743d445370"
      },
      "execution_count": null,
      "outputs": [
        {
          "output_type": "display_data",
          "data": {
            "text/plain": [
              "<PIL.Image.Image image mode=L size=33x23 at 0x7EFD3BC88310>"
            ],
            "image/png": "[encoded data removed]"
          },
          "metadata": {}
        },
        {
          "output_type": "display_data",
          "data": {
            "text/plain": [
              "<PIL.Image.Image image mode=L size=63x45 at 0x7EFD3BF94A50>"
            ],
            "image/png": "[encoded data removed]"
          },
          "metadata": {}
        },
        {
          "output_type": "display_data",
          "data": {
            "text/plain": [
              "<PIL.Image.Image image mode=L size=37x31 at 0x7EFD3BF94110>"
            ],
            "image/png": "[encoded data removed]"
          },
          "metadata": {}
        }
      ]
    },
    {
      "cell_type": "markdown",
      "source": [
        "Image is not readable after applying edge detection filter to the image. Lets add Sobel Filter and try."
      ],
      "metadata": {
        "id": "CmrzgD7SLnG_"
      }
    },
    {
      "cell_type": "markdown",
      "source": [
        "###Sobel Filter"
      ],
      "metadata": {
        "id": "5-Y-GRrnI3CB"
      }
    },
    {
      "cell_type": "code",
      "source": [
        "sobelImg = cv.Sobel(laplacian,cv.CV_64F,1,0,ksize=3)\n",
        "cv2_imshow(sobelImg)\n",
        "sobelImg1 = cv.Sobel(laplacian1,cv.CV_64F,1,0,ksize=3)\n",
        "cv2_imshow(sobelImg1)\n",
        "sobelImg2 = cv.Sobel(laplacian2,cv.CV_64F,1,0,ksize=3)\n",
        "cv2_imshow(sobelImg2)"
      ],
      "metadata": {
        "colab": {
          "base_uri": "https://localhost:8080/",
          "height": 116
        },
        "id": "9mrY_WbaJgwo",
        "outputId": "96d6646f-2797-4988-ee97-d556945a43d2"
      },
      "execution_count": null,
      "outputs": [
        {
          "output_type": "display_data",
          "data": {
            "text/plain": [
              "<PIL.Image.Image image mode=L size=33x23 at 0x7EFD3BEDFAD0>"
            ],
            "image/png": "[encoded data removed]"
          },
          "metadata": {}
        },
        {
          "output_type": "display_data",
          "data": {
            "text/plain": [
              "<PIL.Image.Image image mode=L size=63x45 at 0x7EFD3BEDFAD0>"
            ],
            "image/png": "[encoded data removed]"
          },
          "metadata": {}
        },
        {
          "output_type": "display_data",
          "data": {
            "text/plain": [
              "<PIL.Image.Image image mode=L size=37x31 at 0x7EFD3BEDF8D0>"
            ],
            "image/png": "[encoded data removed]"
          },
          "metadata": {}
        }
      ]
    },
    {
      "cell_type": "markdown",
      "source": [
        "Sobel is added to the image and the image is not readable now. The reason for this is that the images do not show enough information to grab edge information."
      ],
      "metadata": {
        "id": "iDOHx1IhL1y_"
      }
    }
  ],
  "metadata": {
    "colab": {
      "provenance": []
    },
    "kernelspec": {
      "display_name": "Python 3",
      "name": "python3"
    },
    "language_info": {
      "name": "python"
    }
  },
  "nbformat": 4,
  "nbformat_minor": 0
}